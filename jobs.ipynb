{
 "cells": [
  {
   "cell_type": "code",
   "execution_count": null,
   "metadata": {},
   "outputs": [],
   "source": [
    "import subprocess"
   ]
  },
  {
   "cell_type": "code",
   "execution_count": null,
   "metadata": {},
   "outputs": [],
   "source": [
    "def execute_command(command):\n",
    "    try:\n",
    "        output = subprocess.check_output(command, shell=True)\n",
    "        return output.decode(\"utf-8\")\n",
    "    except subprocess.CalledProcessError as e:\n",
    "        print(\"Error executing command:\", e)\n",
    "        return None"
   ]
  },
  {
   "cell_type": "markdown",
   "metadata": {},
   "source": [
    "### check your job"
   ]
  },
  {
   "cell_type": "code",
   "execution_count": null,
   "metadata": {},
   "outputs": [],
   "source": [
    "command = 'sacct'\n",
    "output = execute_command(command)\n",
    "if output:\n",
    "    print(\"Command output:\", output)"
   ]
  },
  {
   "cell_type": "markdown",
   "metadata": {},
   "source": [
    "### check your job for more information"
   ]
  },
  {
   "cell_type": "code",
   "execution_count": null,
   "metadata": {},
   "outputs": [],
   "source": [
    "display.max_display_size = None\n",
    "\n",
    "command = 'sacct -u chenzh  -E now --format=jobid,partition,jobname,user,nnodes,start,end,elapsed,state'\n",
    "output = execute_command(command)\n",
    "if output:\n",
    "    print(\"Command output:\", output)"
   ]
  },
  {
   "cell_type": "markdown",
   "metadata": {},
   "source": [
    "## C-node usage"
   ]
  },
  {
   "cell_type": "code",
   "execution_count": null,
   "metadata": {},
   "outputs": [],
   "source": [
    "command = 'sinfo'\n",
    "output = execute_command(command)\n",
    "if output:\n",
    "    print(\"Command output:\", output)"
   ]
  },
  {
   "cell_type": "markdown",
   "metadata": {},
   "source": [
    "## C-node usage for specific cpueicc partition"
   ]
  },
  {
   "cell_type": "code",
   "execution_count": null,
   "metadata": {},
   "outputs": [],
   "source": [
    "command = 'squeue -p cpueicc'\n",
    "output = execute_command(command)\n",
    "if output:\n",
    "    print(\"Command output:\", output)"
   ]
  },
  {
   "cell_type": "markdown",
   "metadata": {},
   "source": [
    "## C-node usage for specific cpueicc partition and user"
   ]
  },
  {
   "cell_type": "markdown",
   "metadata": {},
   "source": [
    "## "
   ]
  },
  {
   "cell_type": "code",
   "execution_count": null,
   "metadata": {},
   "outputs": [],
   "source": [
    "command = 'squeue -p cpueicc -u chenzh --format=\"%i %P %j %u %T %M\" | grep \"chenzh\" | wc -l'\n",
    "output = execute_command(command)\n",
    "if output:\n",
    "    print(\"Command output:\", output)"
   ]
  },
  {
   "cell_type": "code",
   "execution_count": null,
   "metadata": {},
   "outputs": [],
   "source": [
    "command = 'squeue -p cpu6248R'\n",
    "output = execute_command(command)\n",
    "if output:\n",
    "    print(\"Command output:\", output)"
   ]
  },
  {
   "cell_type": "code",
   "execution_count": null,
   "metadata": {},
   "outputs": [],
   "source": [
    "command = 'squeue -p cpu6248R -u chenzh --format=\"%i %P %j %u %T %M\" | grep \"chenzh\" | wc -l'\n",
    "output = execute_command(command)\n",
    "if output:\n",
    "    print(\"Command output:\", output)"
   ]
  },
  {
   "cell_type": "code",
   "execution_count": null,
   "metadata": {},
   "outputs": [],
   "source": [
    "command = 'squeue -p i72c512g'\n",
    "output = execute_command(command)\n",
    "if output:\n",
    "    print(\"Command output:\", output)"
   ]
  },
  {
   "cell_type": "code",
   "execution_count": null,
   "metadata": {},
   "outputs": [],
   "source": [
    "command = 'squeue -p i72c512g -u chenzh --format=\"%i %P %j %u %T %M\" | grep \"chenzh\" | wc -l'\n",
    "output = execute_command(command)\n",
    "if output:\n",
    "    print(\"Command output:\", output)"
   ]
  },
  {
   "cell_type": "markdown",
   "metadata": {},
   "source": [
    "## all your jobs"
   ]
  },
  {
   "cell_type": "code",
   "execution_count": null,
   "metadata": {},
   "outputs": [],
   "source": [
    "command = 'squeue -u chenzh --format=\"%i %P %j %u %T %M\" | grep \"chenzh\" | wc -l'\n",
    "output = execute_command(command)\n",
    "if output:\n",
    "    print(\"Command output:\", output)"
   ]
  }
 ],
 "metadata": {
  "kernelspec": {
   "display_name": "python310",
   "language": "python",
   "name": "python3"
  },
  "language_info": {
   "codemirror_mode": {
    "name": "ipython",
    "version": 3
   },
   "file_extension": ".py",
   "mimetype": "text/x-python",
   "name": "python",
   "nbconvert_exporter": "python",
   "pygments_lexer": "ipython3",
   "version": "3.10.14"
  }
 },
 "nbformat": 4,
 "nbformat_minor": 2
}
